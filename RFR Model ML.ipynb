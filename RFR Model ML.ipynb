{
 "cells": [
  {
   "cell_type": "code",
   "execution_count": null,
   "id": "64c5c5cb",
   "metadata": {},
   "outputs": [],
   "source": [
    "#Importing the libraries\n",
    "import pandas as pd\n",
    "import numpy as np\n",
    "from sklearn import datasets\n",
    "from sklearn import model_selection\n",
    "from sklearn import ensemble\n",
    "from sklearn import metrics\n",
    "# Read in data as pandas dataframe and display first 5 rows\n",
    "df = pd.read_excel('path to .xlsx dataset')\n",
    "df.head()"
   ]
  },
  {
   "cell_type": "code",
   "execution_count": null,
   "id": "badbbf60",
   "metadata": {},
   "outputs": [],
   "source": [
    "#Visualize the data\n",
    "df.describe()"
   ]
  },
  {
   "cell_type": "code",
   "execution_count": null,
   "id": "a5fae45b",
   "metadata": {},
   "outputs": [],
   "source": [
    "#Choose the target variable and associated predictors\n",
    "#Target in my case here is Crop Height\n",
    "y = df[['crop_ht_1(cm)']]\n",
    "#The associated predictors are fed\n",
    "X = df[[\"HV Sigma0\",'T33','Ent',\"RVI\",'g0','Rel YG4 Vol']]"
   ]
  },
  {
   "cell_type": "code",
   "execution_count": null,
   "id": "1c16a575",
   "metadata": {},
   "outputs": [],
   "source": [
    "# Use numpy to convert to arrays\n",
    "import numpy as np\n",
    "\n",
    "# Labels are the values we want to predict\n",
    "labels = np.array(df['crop_ht_1(cm)'])\n",
    "\n",
    "# Remove the labels from the features\n",
    "# axis 1 refers to the columns\n",
    "df= df.drop('crop_ht_1(cm)', axis = 1)\n",
    "\n",
    "# Saving feature names for later use\n",
    "df_list = list(df.columns)\n",
    "\n",
    "# Convert to numpy array\n",
    "df = np.array(df)"
   ]
  },
  {
   "cell_type": "code",
   "execution_count": null,
   "id": "2c2f72c7",
   "metadata": {},
   "outputs": [],
   "source": [
    "# Using Skicit-learn to split data into training and testing sets\n",
    "from sklearn.model_selection import train_test_split\n",
    "# splitting the dataset into training and test set as per your requirement for optimization\n",
    "X_train, X_test, y_train, y_test = train_test_split(X, y, test_size = 0.3,\n",
    "                                                                           random_state = 42)"
   ]
  },
  {
   "cell_type": "code",
   "execution_count": null,
   "id": "faef16b2",
   "metadata": {},
   "outputs": [],
   "source": [
    "# Import the model we are using\n",
    "from sklearn.ensemble import RandomForestRegressor\n",
    "\n",
    "# Instantiate model \n",
    "rf = RandomForestRegressor(n_estimators= 10, random_state=1)\n",
    "\n",
    "# Train the model on training data\n",
    "# fitting RFR to the dataset\n",
    "# create regressor object\n",
    "rf.fit(X_train ,y_train.values.ravel()) "
   ]
  },
  {
   "cell_type": "code",
   "execution_count": null,
   "id": "f239d33e",
   "metadata": {},
   "outputs": [],
   "source": [
    "#Prediction using the generated model\n",
    "y_pred = rf.predict(X_test)\n"
   ]
  },
  {
   "cell_type": "code",
   "execution_count": null,
   "id": "10bec5bf",
   "metadata": {},
   "outputs": [],
   "source": [
    "#Model Performance Evaluation\n",
    "rf.score(X_test,y_test)"
   ]
  },
  {
   "cell_type": "code",
   "execution_count": null,
   "id": "e4af136f",
   "metadata": {},
   "outputs": [],
   "source": [
    "from sklearn.metrics import mean_squared_error, r2_score\n",
    "mae = np.round(metrics.mean_absolute_error(y_test, y_pred), 2)\n",
    "rmse = np.round(np.sqrt(metrics.mean_squared_error(y_test, y_pred)), 2)\n",
    "print(mae)\n",
    "print(rmse)\n",
    "print(\"R2 score : %.2f\" % r2_score(y_test, y_pred))\n"
   ]
  },
  {
   "cell_type": "code",
   "execution_count": null,
   "id": "de20dfb5",
   "metadata": {},
   "outputs": [],
   "source": [
    "#plotting the results\n",
    "# Get numerical feature importances\n",
    "importances = list(rf.feature_importances_)\n",
    "\n",
    "# List of tuples with variable and importance\n",
    "feature_importances = [(feature, round(importance, 2)) for feature, importance in zip(X_test, importances)]\n",
    "\n",
    "# Sort the feature importances by most important first\n",
    "feature_importances = sorted(feature_importances, key = lambda x: x[1], reverse = True)\n",
    "\n",
    "# Print out the feature and importances \n",
    "[print('Variable: {:20} Importance: {}'.format(*pair)) for pair in feature_importances];\n"
   ]
  },
  {
   "cell_type": "code",
   "execution_count": null,
   "id": "54cdfce6",
   "metadata": {},
   "outputs": [],
   "source": [
    "# list of x locations for plotting\n",
    "import matplotlib.pyplot as plt\n",
    "x_values = list(range(len(importances)))\n",
    "\n",
    "# Make a bar chart\n",
    "plt.bar(x_values, importances, orientation = 'vertical')\n",
    "\n",
    "# Tick labels for x axis\n",
    "plt.xticks(x_values, X_test)\n",
    "\n",
    "# Axis labels and title\n",
    "plt.ylabel('Importance'); plt.xlabel('Variable'); plt.title('Variable Importances'); "
   ]
  },
  {
   "cell_type": "code",
   "execution_count": null,
   "id": "547319ba",
   "metadata": {},
   "outputs": [],
   "source": []
  }
 ],
 "metadata": {
  "kernelspec": {
   "display_name": "Python 3",
   "language": "python",
   "name": "python3"
  },
  "language_info": {
   "codemirror_mode": {
    "name": "ipython",
    "version": 3
   },
   "file_extension": ".py",
   "mimetype": "text/x-python",
   "name": "python",
   "nbconvert_exporter": "python",
   "pygments_lexer": "ipython3",
   "version": "3.8.8"
  }
 },
 "nbformat": 4,
 "nbformat_minor": 5
}

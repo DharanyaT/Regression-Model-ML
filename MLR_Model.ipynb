{
  "nbformat": 4,
  "nbformat_minor": 0,
  "metadata": {
    "colab": {
      "provenance": []
    },
    "kernelspec": {
      "name": "python3",
      "display_name": "Python 3"
    },
    "language_info": {
      "name": "python"
    }
  },
  "cells": [
    {
      "cell_type": "code",
      "execution_count": null,
      "metadata": {
        "id": "B6zQ9aJ9oQVY"
      },
      "outputs": [],
      "source": [
        "#Importing the libraries\n",
        "import pandas as pd\n",
        "import numpy as np\n",
        "from sklearn import datasets\n",
        "from sklearn import model_selection\n",
        "from sklearn import ensemble\n",
        "from sklearn import metrics\n",
        "# Read in data as pandas dataframe and display first 5 rows\n",
        "df = pd.read_excel('path to .xlsx dataset')\n",
        "df.head()\n"
      ]
    },
    {
      "cell_type": "code",
      "source": [
        "#Visualize the data\n",
        "df.describe()"
      ],
      "metadata": {
        "id": "mBqtTP9volDj"
      },
      "execution_count": null,
      "outputs": []
    },
    {
      "cell_type": "code",
      "source": [
        "#Choose the target variable and associated predictors\n",
        "#Target in my case here is Crop Height\n",
        "y = df[['crop_ht_1(cm)']]\n",
        "#The associated predictors are fed\n",
        "X = df[[\"HV Sigma0\",'T33','Ent',\"RVI\",'g0','Rel YG4 Vol']]"
      ],
      "metadata": {
        "id": "6MMwdfkroorT"
      },
      "execution_count": 58,
      "outputs": []
    },
    {
      "cell_type": "code",
      "source": [
        "print(X)\n",
        "print('X shape=' , X.shape)\n",
        "print('y shape=' , y.shape)"
      ],
      "metadata": {
        "id": "f8bPNdNtr4ck"
      },
      "execution_count": null,
      "outputs": []
    },
    {
      "cell_type": "code",
      "source": [
        "# Use numpy to convert to arrays\n",
        "import numpy as np\n",
        "\n",
        "# Labels are the values we want to predict\n",
        "labels = np.array(df['crop_ht_1(cm)'])\n",
        "\n",
        "# Remove the labels from the features\n",
        "# axis 1 refers to the columns\n",
        "df= df.drop('crop_ht_1(cm)', axis = 1)\n",
        "\n",
        "# Saving feature names for later use\n",
        "df_list = list(df.columns)\n",
        "\n",
        "# Convert to numpy array\n",
        "df = np.array(df)"
      ],
      "metadata": {
        "id": "ojDjWgwkoq1T"
      },
      "execution_count": 60,
      "outputs": []
    },
    {
      "cell_type": "code",
      "source": [
        "# Using Skicit-learn to split data into training and testing sets\n",
        "from sklearn.model_selection import train_test_split\n",
        "# splitting the dataset into training and test set as per your requirement for optimization\n",
        "X_train, X_test, y_train, y_test = train_test_split(X, y, test_size = 0.3,\n",
        "                                                                           random_state = 42)"
      ],
      "metadata": {
        "id": "n_TM1FFbotS6"
      },
      "execution_count": 61,
      "outputs": []
    },
    {
      "cell_type": "code",
      "source": [
        "# Import the model we are using\n",
        "from sklearn.linear_model import LinearRegression\n",
        "reg = LinearRegression()\n",
        "\n",
        "\n",
        "# The whole learning process boils down to fitting the regression\n",
        "reg.fit(X_train ,y_train.values.ravel())"
      ],
      "metadata": {
        "id": "DPt50TRroz3_"
      },
      "execution_count": null,
      "outputs": []
    },
    {
      "cell_type": "code",
      "source": [
        "# Getting the coefficients of the regression\n",
        "reg.coef_\n",
        "# Note that the output is an array"
      ],
      "metadata": {
        "id": "zb4NvuWl6V3W"
      },
      "execution_count": null,
      "outputs": []
    },
    {
      "cell_type": "code",
      "source": [
        "# Getting the intercept of the regression\n",
        "reg.intercept_\n",
        "# Note that the result is a float as we usually expect a single value"
      ],
      "metadata": {
        "id": "_4SsxDkd6rEI"
      },
      "execution_count": null,
      "outputs": []
    },
    {
      "cell_type": "code",
      "source": [
        "# Get the R-squared of the regression of the trained model\n",
        "reg.score(X_train ,y_train)"
      ],
      "metadata": {
        "id": "31yqL9O36spu"
      },
      "execution_count": null,
      "outputs": []
    },
    {
      "cell_type": "code",
      "source": [
        "#To get the pvalues\n",
        "from  sklearn.feature_selection import f_regression\n",
        "f_regression(X,y)\n",
        "p_values=f_regression(X,y)[1]\n",
        "reg_summary=pd.DataFrame(data=X.columns.values,columns=['Features'])\n",
        "reg_summary['p-values']=p_values.round(6)\n",
        "reg_summary"
      ],
      "metadata": {
        "id": "WZM4E9Q1ZmQs"
      },
      "execution_count": null,
      "outputs": []
    },
    {
      "cell_type": "code",
      "source": [
        "#Prediction using the generated model\n",
        "y_pred = reg.predict(X_test)\n",
        "y_pred"
      ],
      "metadata": {
        "id": "CBVlSUWAtBTQ"
      },
      "execution_count": null,
      "outputs": []
    },
    {
      "cell_type": "code",
      "source": [
        "#Evaluating the accuracy of the predicted model\n",
        "from sklearn.metrics import mean_squared_error, r2_score\n",
        "mae = np.round(metrics.mean_absolute_error(y_test, y_pred), 2)\n",
        "rmse = np.round(np.sqrt(metrics.mean_squared_error(y_test, y_pred)), 2)\n",
        "print(mae)\n",
        "print(rmse)\n",
        "print(\"R2 score : %.2f\" % r2_score(y_test, y_pred))"
      ],
      "metadata": {
        "id": "pk_4RI3wpnsC"
      },
      "execution_count": null,
      "outputs": []
    }
  ]
}